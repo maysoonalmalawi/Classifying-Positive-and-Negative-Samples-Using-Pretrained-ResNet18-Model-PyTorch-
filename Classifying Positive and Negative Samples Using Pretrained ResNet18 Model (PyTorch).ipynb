{
  "cells": [
    {
      "cell_type": "markdown",
      "metadata": {
        "id": "8abd2f3a-7930-44bc-9a5f-3646677309bd"
      },
      "source": [
        "<a href=\"http://cocl.us/pytorch_link_top\">\n",
        "    <img src=\"https://s3-api.us-geo.objectstorage.softlayer.net/cf-courses-data/CognitiveClass/DL0110EN/notebook_images%20/Pytochtop.png\" width=\"750\" alt=\"IBM Product \">\n",
        "</a>\n"
      ]
    },
    {
      "cell_type": "markdown",
      "metadata": {
        "id": "c0b80864-134b-4e19-b978-042c3752181d"
      },
      "source": [
        "<img src=\"https://cf-courses-data.s3.us.cloud-object-storage.appdomain.cloud/IBMDeveloperSkillsNetwork-DL0321EN-SkillsNetwork/image/IDSN-logo.png\" width=\"200\" alt=\"cognitiveclass.ai logo\">\n"
      ]
    },
    {
      "cell_type": "markdown",
      "metadata": {
        "id": "1e5bdfa8-6014-495e-af4c-1905a13cf122"
      },
      "source": [
        "<h1><h1>Pre-trained-Models with PyTorch </h1>\n"
      ]
    },
    {
      "cell_type": "markdown",
      "metadata": {
        "id": "53741054-55b8-4d99-9976-6032dbb90087"
      },
      "source": [
        "In this lab, you will use pre-trained models to classify between the negative and positive samples; you will be provided with the dataset object. The particular pre-trained model will be resnet18; you will have three questions:\n",
        "<ul>\n",
        "<li>change the output layer</li>\n",
        "<li> train the model</li>\n",
        "<li>  identify  several  misclassified samples</li>\n",
        " </ul>\n",
        "You will take several screenshots of your work and share your notebook.\n"
      ]
    },
    {
      "cell_type": "markdown",
      "metadata": {
        "id": "ba3c08cf-34b0-406d-8125-0593277f34bc"
      },
      "source": [
        "<h2>Table of Contents</h2>\n"
      ]
    },
    {
      "cell_type": "markdown",
      "metadata": {
        "id": "921f07a2-6a2d-4608-84f2-0cc62bf2501b"
      },
      "source": [
        "<div class=\"alert alert-block alert-info\" style=\"margin-top: 20px\">\n",
        "\n",
        "\n",
        "<ul>\n",
        "    <li><a href=\"#download_data\"> Download Data</a></li>\n",
        "    <li><a href=\"#auxiliary\"> Imports and Auxiliary Functions </a></li>\n",
        "    <li><a href=\"#data_class\"> Dataset Class</a></li>\n",
        "    <li><a href=\"#Question_1\">Question 1</a></li>\n",
        "    <li><a href=\"#Question_2\">Question 2</a></li>\n",
        "    <li><a href=\"#Question_3\">Question 3</a></li>\n",
        "</ul>\n",
        "<p>Estimated Time Needed: <strong>120 min</strong></p>\n",
        " </div>\n",
        "<hr>\n"
      ]
    },
    {
      "cell_type": "markdown",
      "metadata": {
        "id": "5ceb7083-02ed-4c9c-b5b4-7b0418388a2a"
      },
      "source": [
        "<h2 id=\"download_data\">Download Data</h2>\n"
      ]
    },
    {
      "cell_type": "markdown",
      "metadata": {
        "id": "efedf9be-c643-4d62-8158-0918061c6b8b"
      },
      "source": [
        "Download the dataset and unzip the files in your data directory, unlike the other labs, all the data will be deleted after you close  the lab, this may take some time:\n"
      ]
    },
    {
      "cell_type": "code",
      "metadata": {
        "colab": {
          "base_uri": "https://localhost:8080/"
        },
        "id": "f119a703-4c0b-40c8-9ca9-152a26a98210",
        "outputId": "e9ac2344-2857-496d-fc8d-c14dbf5416b1"
      },
      "outputs": [
        {
          "output_type": "stream",
          "name": "stdout",
          "text": [
            "--2024-11-18 22:59:56--  https://s3-api.us-geo.objectstorage.softlayer.net/cf-courses-data/CognitiveClass/DL0321EN/data/images/Positive_tensors.zip\n",
            "Resolving s3-api.us-geo.objectstorage.softlayer.net (s3-api.us-geo.objectstorage.softlayer.net)... 67.228.254.196\n",
            "Connecting to s3-api.us-geo.objectstorage.softlayer.net (s3-api.us-geo.objectstorage.softlayer.net)|67.228.254.196|:443... connected.\n",
            "HTTP request sent, awaiting response... 200 OK\n",
            "Length: 2598656062 (2.4G) [application/zip]\n",
            "Saving to: ‘Positive_tensors.zip’\n",
            "\n",
            "Positive_tensors.zi 100%[===================>]   2.42G  38.3MB/s    in 68s     \n",
            "\n",
            "2024-11-18 23:01:05 (36.5 MB/s) - ‘Positive_tensors.zip’ saved [2598656062/2598656062]\n",
            "\n"
          ]
        }
      ],
      "source": [
        "!wget https://s3-api.us-geo.objectstorage.softlayer.net/cf-courses-data/CognitiveClass/DL0321EN/data/images/Positive_tensors.zip"
      ],
      "execution_count": 1
    },
    {
      "cell_type": "code",
      "metadata": {
        "id": "e3f2804b-7bc0-4a34-a8bd-0756372003da"
      },
      "outputs": [],
      "source": [
        "!unzip -q Positive_tensors.zip"
      ],
      "execution_count": 2
    },
    {
      "cell_type": "code",
      "metadata": {
        "colab": {
          "base_uri": "https://localhost:8080/"
        },
        "id": "e5119dc8-afc5-460d-879a-8b774f567bd0",
        "outputId": "61d26ef4-ec75-4d40-c4cd-47523bc4963f"
      },
      "outputs": [
        {
          "output_type": "stream",
          "name": "stdout",
          "text": [
            "--2024-11-18 23:02:25--  https://s3-api.us-geo.objectstorage.softlayer.net/cf-courses-data/CognitiveClass/DL0321EN/data/images/Negative_tensors.zip\n",
            "Resolving s3-api.us-geo.objectstorage.softlayer.net (s3-api.us-geo.objectstorage.softlayer.net)... 67.228.254.196\n",
            "Connecting to s3-api.us-geo.objectstorage.softlayer.net (s3-api.us-geo.objectstorage.softlayer.net)|67.228.254.196|:443... connected.\n",
            "HTTP request sent, awaiting response... 200 OK\n",
            "Length: 2111408108 (2.0G) [application/zip]\n",
            "Saving to: ‘Negative_tensors.zip’\n",
            "\n",
            "Negative_tensors.zi 100%[===================>]   1.97G  36.0MB/s    in 54s     \n",
            "\n",
            "2024-11-18 23:03:20 (37.0 MB/s) - ‘Negative_tensors.zip’ saved [2111408108/2111408108]\n",
            "\n"
          ]
        }
      ],
      "source": [
        "! wget https://s3-api.us-geo.objectstorage.softlayer.net/cf-courses-data/CognitiveClass/DL0321EN/data/images/Negative_tensors.zip\n",
        "!unzip -q Negative_tensors.zip"
      ],
      "execution_count": 3
    },
    {
      "cell_type": "markdown",
      "metadata": {
        "id": "fad15709-e387-40fd-ab2f-8fde44dea3e1"
      },
      "source": [
        "We will install torchvision:\n"
      ]
    },
    {
      "cell_type": "code",
      "metadata": {
        "colab": {
          "base_uri": "https://localhost:8080/"
        },
        "id": "6a4397a6-b3f6-4b0e-b9f9-c0e294eede06",
        "outputId": "e2c09c6d-05b0-4fc3-f16a-fe601eceb57b"
      },
      "outputs": [
        {
          "output_type": "stream",
          "name": "stdout",
          "text": [
            "Requirement already satisfied: torchvision in /usr/local/lib/python3.10/dist-packages (0.20.1+cpu)\n",
            "Requirement already satisfied: numpy in /usr/local/lib/python3.10/dist-packages (from torchvision) (1.26.4)\n",
            "Requirement already satisfied: torch==2.5.1 in /usr/local/lib/python3.10/dist-packages (from torchvision) (2.5.1+cpu)\n",
            "Requirement already satisfied: pillow!=8.3.*,>=5.3.0 in /usr/local/lib/python3.10/dist-packages (from torchvision) (11.0.0)\n",
            "Requirement already satisfied: filelock in /usr/local/lib/python3.10/dist-packages (from torch==2.5.1->torchvision) (3.16.1)\n",
            "Requirement already satisfied: typing-extensions>=4.8.0 in /usr/local/lib/python3.10/dist-packages (from torch==2.5.1->torchvision) (4.12.2)\n",
            "Requirement already satisfied: networkx in /usr/local/lib/python3.10/dist-packages (from torch==2.5.1->torchvision) (3.4.2)\n",
            "Requirement already satisfied: jinja2 in /usr/local/lib/python3.10/dist-packages (from torch==2.5.1->torchvision) (3.1.4)\n",
            "Requirement already satisfied: fsspec in /usr/local/lib/python3.10/dist-packages (from torch==2.5.1->torchvision) (2024.10.0)\n",
            "Requirement already satisfied: sympy==1.13.1 in /usr/local/lib/python3.10/dist-packages (from torch==2.5.1->torchvision) (1.13.1)\n",
            "Requirement already satisfied: mpmath<1.4,>=1.1.0 in /usr/local/lib/python3.10/dist-packages (from sympy==1.13.1->torch==2.5.1->torchvision) (1.3.0)\n",
            "Requirement already satisfied: MarkupSafe>=2.0 in /usr/local/lib/python3.10/dist-packages (from jinja2->torch==2.5.1->torchvision) (3.0.2)\n"
          ]
        }
      ],
      "source": [
        "!pip install torchvision"
      ],
      "execution_count": 35
    },
    {
      "cell_type": "markdown",
      "metadata": {
        "id": "720b2e1a-fa06-4daf-a922-4a70777f6709"
      },
      "source": [
        "<h2 id=\"auxiliary\">Imports and Auxiliary Functions</h2>\n"
      ]
    },
    {
      "cell_type": "markdown",
      "metadata": {
        "id": "3cadbf87-12b4-4cf5-973b-d074375b21f7"
      },
      "source": [
        "The following are the libraries we are going to use for this lab. The <code>torch.manual_seed()</code> is for forcing the random function to give the same number every time we try to recompile it.\n"
      ]
    },
    {
      "cell_type": "code",
      "metadata": {
        "colab": {
          "base_uri": "https://localhost:8080/"
        },
        "id": "100c4913-0f97-425c-bf42-eba819ed5f7f",
        "outputId": "881918f0-5885-4529-f19f-1c1db803b830"
      },
      "outputs": [
        {
          "output_type": "execute_result",
          "data": {
            "text/plain": [
              "<torch._C.Generator at 0x7927df62dfd0>"
            ]
          },
          "metadata": {},
          "execution_count": 36
        }
      ],
      "source": [
        "# These are the libraries will be used for this lab.\n",
        "import torchvision.models as models\n",
        "from PIL import Image\n",
        "import pandas\n",
        "from torchvision import transforms\n",
        "import torch.nn as nn\n",
        "import time\n",
        "import torch\n",
        "import matplotlib.pylab as plt\n",
        "import numpy as np\n",
        "from torch.utils.data import Dataset, DataLoader\n",
        "import h5py\n",
        "import os\n",
        "import glob\n",
        "torch.manual_seed(0)"
      ],
      "execution_count": 36
    },
    {
      "cell_type": "code",
      "metadata": {
        "id": "62927ada-7de8-485c-a08e-cb2b038b25d6"
      },
      "outputs": [],
      "source": [
        "from matplotlib.pyplot import imshow\n",
        "import matplotlib.pylab as plt\n",
        "from PIL import Image\n",
        "import pandas as pd\n",
        "import os"
      ],
      "execution_count": 37
    },
    {
      "cell_type": "markdown",
      "metadata": {
        "id": "5fed9c29-48b2-4bbf-9ba9-7f6fc1c088a2"
      },
      "source": [
        "<!--Empty Space for separating topics-->\n"
      ]
    },
    {
      "cell_type": "markdown",
      "metadata": {
        "id": "d7b81ceb-2ff9-4e71-b0ad-bcd507f91029"
      },
      "source": [
        "<h2 id=\"data_class\">Dataset Class</h2>\n"
      ]
    },
    {
      "cell_type": "markdown",
      "metadata": {
        "id": "8630dc80-3ee1-40a4-84d7-0427cd7101c7"
      },
      "source": [
        " This dataset class is essentially the same dataset you build in the previous section, but to speed things up, we are going to use tensors instead of jpeg images. Therefor for each iteration, you will skip the reshape step, conversion step to tensors and normalization step.\n"
      ]
    },
    {
      "cell_type": "code",
      "metadata": {
        "colab": {
          "base_uri": "https://localhost:8080/"
        },
        "id": "4c2612bc-5ed4-4f7d-bc9d-71c6a69ce2b7",
        "outputId": "b389a8be-2f4c-4257-ab45-c2f5d11cb0aa"
      },
      "outputs": [
        {
          "output_type": "stream",
          "name": "stdout",
          "text": [
            "done\n"
          ]
        }
      ],
      "source": [
        "# Create your own dataset object\n",
        "\n",
        "class Dataset(Dataset):\n",
        "\n",
        "    # Constructor\n",
        "    def __init__(self,transform=None,train=True):\n",
        "        directory=\"\"\n",
        "        positive=\"Positive_tensors\"\n",
        "        negative='Negative_tensors'\n",
        "\n",
        "        positive_file_path=os.path.join(directory,positive)\n",
        "        negative_file_path=os.path.join(directory,negative)\n",
        "        positive_files=[os.path.join(positive_file_path,file) for file in os.listdir(positive_file_path) if file.endswith(\".pt\")]\n",
        "        negative_files=[os.path.join(negative_file_path,file) for file in os.listdir(negative_file_path) if file.endswith(\".pt\")]\n",
        "        number_of_samples=len(positive_files)+len(negative_files)\n",
        "        self.all_files=[None]*number_of_samples\n",
        "        self.all_files[::2]=positive_files\n",
        "        self.all_files[1::2]=negative_files\n",
        "        # The transform is goint to be used on image\n",
        "        self.transform = transform\n",
        "        #torch.LongTensor\n",
        "        self.Y=torch.zeros([number_of_samples]).type(torch.LongTensor)\n",
        "        self.Y[::2]=1\n",
        "        self.Y[1::2]=0\n",
        "\n",
        "        if train:\n",
        "            self.all_files=self.all_files[0:30000]\n",
        "            self.Y=self.Y[0:30000]\n",
        "            self.len=len(self.all_files)\n",
        "        else:\n",
        "            self.all_files=self.all_files[30000:]\n",
        "            self.Y=self.Y[30000:]\n",
        "            self.len=len(self.all_files)\n",
        "\n",
        "    # Get the length\n",
        "    def __len__(self):\n",
        "        return self.len\n",
        "\n",
        "    # Getter\n",
        "    def __getitem__(self, idx):\n",
        "\n",
        "        image=torch.load(self.all_files[idx])\n",
        "        y=self.Y[idx]\n",
        "\n",
        "        # If there is any transform method, apply it onto the image\n",
        "        if self.transform:\n",
        "            image = self.transform(image)\n",
        "\n",
        "        return image, y\n",
        "\n",
        "print(\"done\")"
      ],
      "execution_count": 38
    },
    {
      "cell_type": "markdown",
      "metadata": {
        "id": "747173bb-89d3-45e8-b058-ab209f14610c"
      },
      "source": [
        "We create two dataset objects, one for the training data and one for the validation data.\n"
      ]
    },
    {
      "cell_type": "code",
      "metadata": {
        "colab": {
          "base_uri": "https://localhost:8080/"
        },
        "id": "0618234d-d2a4-459a-aed0-20e3803a4661",
        "outputId": "64637a5c-3ea9-495e-9748-7d54719af8df"
      },
      "outputs": [
        {
          "output_type": "stream",
          "name": "stdout",
          "text": [
            "done\n"
          ]
        }
      ],
      "source": [
        "train_dataset = Dataset(train=True)\n",
        "validation_dataset = Dataset(train=False)\n",
        "print(\"done\")"
      ],
      "execution_count": 39
    },
    {
      "cell_type": "markdown",
      "metadata": {
        "id": "d03d6186-c5e3-4594-b469-fc776d407fe5"
      },
      "source": [
        "<h2 id=\"Question_1\">Question 1</h2>\n"
      ]
    },
    {
      "cell_type": "markdown",
      "metadata": {
        "id": "67c3bc6f-c9ce-4bc6-98e2-160b4c2c6be3"
      },
      "source": [
        "<b>Prepare a pre-trained resnet18 model :</b>\n"
      ]
    },
    {
      "cell_type": "markdown",
      "metadata": {
        "id": "6cdd3ebc-0de2-4418-9316-a20a12ec7034"
      },
      "source": [
        "<b>Step 1</b>: Load the pre-trained model <code>resnet18</code> Set the parameter <code>pretrained</code> to true:\n"
      ]
    },
    {
      "cell_type": "code",
      "metadata": {
        "id": "293cde0f-d36f-4584-a1ff-d4fe736b9fb0"
      },
      "outputs": [],
      "source": [
        "# Step 1: Load the pre-trained model resnet18\n",
        "\n",
        "# Type your code here\n",
        "\n",
        "model = models.resnet18(pretrained=True)"
      ],
      "execution_count": 40
    },
    {
      "cell_type": "markdown",
      "metadata": {
        "id": "89b310a4-2eb5-4627-ae5e-d0783ba838ad"
      },
      "source": [
        "<b>Step 2</b>: Set the attribute <code>requires_grad</code> to <code>False</code>. As a result, the parameters will not be affected by training.\n"
      ]
    },
    {
      "cell_type": "code",
      "metadata": {
        "id": "22ed14f3-ded5-47a6-b667-34e9d5bc0b95"
      },
      "outputs": [],
      "source": [
        "# Step 2: Set the parameter cannot be trained for the pre-trained model\n",
        "\n",
        "\n",
        "# Type your code here\n",
        "\n",
        "for param in model.parameters():\n",
        "    param.requires_grad=False"
      ],
      "execution_count": 41
    },
    {
      "cell_type": "markdown",
      "metadata": {
        "id": "03f23176-eca4-4e8f-9ec2-a164a5a7ef65"
      },
      "source": [
        "<code>resnet18</code> is used to classify 1000 different objects; as a result, the last layer has 1000 outputs.  The 512 inputs come from the fact that the previously hidden layer has 512 outputs.\n"
      ]
    },
    {
      "cell_type": "markdown",
      "metadata": {
        "id": "410287ff-6594-4af8-8acc-495106d31545"
      },
      "source": [
        "<b>Step 3</b>: Replace the output layer <code>model.fc</code> of the neural network with a <code>nn.Linear</code> object, to classify 2 different classes. For the parameters <code>in_features </code> remember the last hidden layer has 512 neurons.\n"
      ]
    },
    {
      "cell_type": "code",
      "metadata": {
        "id": "4f79a8c7-4e3c-48b2-8d5c-75ec66fc7b88"
      },
      "outputs": [],
      "source": [
        "model.fc=nn.Linear(512,2)"
      ],
      "execution_count": 42
    },
    {
      "cell_type": "markdown",
      "metadata": {
        "id": "048fe114-92ee-4c41-aede-1e016711ffcd"
      },
      "source": [
        "Print out the model in order to show whether you get the correct answer.<br> <b>(Your peer reviewer is going to mark based on what you print here.)</b>\n"
      ]
    },
    {
      "cell_type": "code",
      "metadata": {
        "colab": {
          "base_uri": "https://localhost:8080/"
        },
        "id": "1462f12b-da03-4175-ad74-043e46166410",
        "outputId": "23c7a675-e547-4d02-93d7-10d13e57e084"
      },
      "outputs": [
        {
          "output_type": "stream",
          "name": "stdout",
          "text": [
            "ResNet(\n",
            "  (conv1): Conv2d(3, 64, kernel_size=(7, 7), stride=(2, 2), padding=(3, 3), bias=False)\n",
            "  (bn1): BatchNorm2d(64, eps=1e-05, momentum=0.1, affine=True, track_running_stats=True)\n",
            "  (relu): ReLU(inplace=True)\n",
            "  (maxpool): MaxPool2d(kernel_size=3, stride=2, padding=1, dilation=1, ceil_mode=False)\n",
            "  (layer1): Sequential(\n",
            "    (0): BasicBlock(\n",
            "      (conv1): Conv2d(64, 64, kernel_size=(3, 3), stride=(1, 1), padding=(1, 1), bias=False)\n",
            "      (bn1): BatchNorm2d(64, eps=1e-05, momentum=0.1, affine=True, track_running_stats=True)\n",
            "      (relu): ReLU(inplace=True)\n",
            "      (conv2): Conv2d(64, 64, kernel_size=(3, 3), stride=(1, 1), padding=(1, 1), bias=False)\n",
            "      (bn2): BatchNorm2d(64, eps=1e-05, momentum=0.1, affine=True, track_running_stats=True)\n",
            "    )\n",
            "    (1): BasicBlock(\n",
            "      (conv1): Conv2d(64, 64, kernel_size=(3, 3), stride=(1, 1), padding=(1, 1), bias=False)\n",
            "      (bn1): BatchNorm2d(64, eps=1e-05, momentum=0.1, affine=True, track_running_stats=True)\n",
            "      (relu): ReLU(inplace=True)\n",
            "      (conv2): Conv2d(64, 64, kernel_size=(3, 3), stride=(1, 1), padding=(1, 1), bias=False)\n",
            "      (bn2): BatchNorm2d(64, eps=1e-05, momentum=0.1, affine=True, track_running_stats=True)\n",
            "    )\n",
            "  )\n",
            "  (layer2): Sequential(\n",
            "    (0): BasicBlock(\n",
            "      (conv1): Conv2d(64, 128, kernel_size=(3, 3), stride=(2, 2), padding=(1, 1), bias=False)\n",
            "      (bn1): BatchNorm2d(128, eps=1e-05, momentum=0.1, affine=True, track_running_stats=True)\n",
            "      (relu): ReLU(inplace=True)\n",
            "      (conv2): Conv2d(128, 128, kernel_size=(3, 3), stride=(1, 1), padding=(1, 1), bias=False)\n",
            "      (bn2): BatchNorm2d(128, eps=1e-05, momentum=0.1, affine=True, track_running_stats=True)\n",
            "      (downsample): Sequential(\n",
            "        (0): Conv2d(64, 128, kernel_size=(1, 1), stride=(2, 2), bias=False)\n",
            "        (1): BatchNorm2d(128, eps=1e-05, momentum=0.1, affine=True, track_running_stats=True)\n",
            "      )\n",
            "    )\n",
            "    (1): BasicBlock(\n",
            "      (conv1): Conv2d(128, 128, kernel_size=(3, 3), stride=(1, 1), padding=(1, 1), bias=False)\n",
            "      (bn1): BatchNorm2d(128, eps=1e-05, momentum=0.1, affine=True, track_running_stats=True)\n",
            "      (relu): ReLU(inplace=True)\n",
            "      (conv2): Conv2d(128, 128, kernel_size=(3, 3), stride=(1, 1), padding=(1, 1), bias=False)\n",
            "      (bn2): BatchNorm2d(128, eps=1e-05, momentum=0.1, affine=True, track_running_stats=True)\n",
            "    )\n",
            "  )\n",
            "  (layer3): Sequential(\n",
            "    (0): BasicBlock(\n",
            "      (conv1): Conv2d(128, 256, kernel_size=(3, 3), stride=(2, 2), padding=(1, 1), bias=False)\n",
            "      (bn1): BatchNorm2d(256, eps=1e-05, momentum=0.1, affine=True, track_running_stats=True)\n",
            "      (relu): ReLU(inplace=True)\n",
            "      (conv2): Conv2d(256, 256, kernel_size=(3, 3), stride=(1, 1), padding=(1, 1), bias=False)\n",
            "      (bn2): BatchNorm2d(256, eps=1e-05, momentum=0.1, affine=True, track_running_stats=True)\n",
            "      (downsample): Sequential(\n",
            "        (0): Conv2d(128, 256, kernel_size=(1, 1), stride=(2, 2), bias=False)\n",
            "        (1): BatchNorm2d(256, eps=1e-05, momentum=0.1, affine=True, track_running_stats=True)\n",
            "      )\n",
            "    )\n",
            "    (1): BasicBlock(\n",
            "      (conv1): Conv2d(256, 256, kernel_size=(3, 3), stride=(1, 1), padding=(1, 1), bias=False)\n",
            "      (bn1): BatchNorm2d(256, eps=1e-05, momentum=0.1, affine=True, track_running_stats=True)\n",
            "      (relu): ReLU(inplace=True)\n",
            "      (conv2): Conv2d(256, 256, kernel_size=(3, 3), stride=(1, 1), padding=(1, 1), bias=False)\n",
            "      (bn2): BatchNorm2d(256, eps=1e-05, momentum=0.1, affine=True, track_running_stats=True)\n",
            "    )\n",
            "  )\n",
            "  (layer4): Sequential(\n",
            "    (0): BasicBlock(\n",
            "      (conv1): Conv2d(256, 512, kernel_size=(3, 3), stride=(2, 2), padding=(1, 1), bias=False)\n",
            "      (bn1): BatchNorm2d(512, eps=1e-05, momentum=0.1, affine=True, track_running_stats=True)\n",
            "      (relu): ReLU(inplace=True)\n",
            "      (conv2): Conv2d(512, 512, kernel_size=(3, 3), stride=(1, 1), padding=(1, 1), bias=False)\n",
            "      (bn2): BatchNorm2d(512, eps=1e-05, momentum=0.1, affine=True, track_running_stats=True)\n",
            "      (downsample): Sequential(\n",
            "        (0): Conv2d(256, 512, kernel_size=(1, 1), stride=(2, 2), bias=False)\n",
            "        (1): BatchNorm2d(512, eps=1e-05, momentum=0.1, affine=True, track_running_stats=True)\n",
            "      )\n",
            "    )\n",
            "    (1): BasicBlock(\n",
            "      (conv1): Conv2d(512, 512, kernel_size=(3, 3), stride=(1, 1), padding=(1, 1), bias=False)\n",
            "      (bn1): BatchNorm2d(512, eps=1e-05, momentum=0.1, affine=True, track_running_stats=True)\n",
            "      (relu): ReLU(inplace=True)\n",
            "      (conv2): Conv2d(512, 512, kernel_size=(3, 3), stride=(1, 1), padding=(1, 1), bias=False)\n",
            "      (bn2): BatchNorm2d(512, eps=1e-05, momentum=0.1, affine=True, track_running_stats=True)\n",
            "    )\n",
            "  )\n",
            "  (avgpool): AdaptiveAvgPool2d(output_size=(1, 1))\n",
            "  (fc): Linear(in_features=512, out_features=2, bias=True)\n",
            ")\n"
          ]
        }
      ],
      "source": [
        "print(model)"
      ],
      "execution_count": 43
    },
    {
      "cell_type": "markdown",
      "metadata": {
        "id": "cb183bcf-8cfa-4e48-93e8-af78f42e57b0"
      },
      "source": [
        "<h2 id=\"Question_2\">Question 2: Train the Model</h2>\n"
      ]
    },
    {
      "cell_type": "markdown",
      "metadata": {
        "id": "91768582-592a-4360-b47c-1c7db7008ff8"
      },
      "source": [
        "In this question you will train your, model:\n"
      ]
    },
    {
      "cell_type": "markdown",
      "metadata": {
        "id": "8455f1a9-a0af-4502-9179-0a4693cf06d8"
      },
      "source": [
        "<b>Step 1</b>: Create a cross entropy criterion function\n"
      ]
    },
    {
      "cell_type": "code",
      "metadata": {
        "id": "5263c76f-483d-42bf-9716-c526278d3fe5"
      },
      "outputs": [],
      "source": [
        "# Step 1: Create the loss function\n",
        "\n",
        "# Type your code here\n",
        "\n",
        "criterion = nn.CrossEntropyLoss()"
      ],
      "execution_count": 44
    },
    {
      "cell_type": "markdown",
      "metadata": {
        "id": "a14f9645-a2ff-4900-91e7-4acf3eec2427"
      },
      "source": [
        "<b>Step 2</b>: Create a training loader and validation loader object, the batch size should have 100 samples each.\n"
      ]
    },
    {
      "cell_type": "code",
      "metadata": {
        "id": "f006c789-b1d6-4eb9-bdc4-613265ac440e"
      },
      "outputs": [],
      "source": [
        "train_loader = torch.utils.data.DataLoader(dataset=train_dataset, batch_size=100)\n",
        "validation_loader = torch.utils.data.DataLoader(dataset=validation_dataset, batch_size=100)"
      ],
      "execution_count": 45
    },
    {
      "cell_type": "markdown",
      "metadata": {
        "id": "0a965344-294c-4f35-881b-6f3b7e938149"
      },
      "source": [
        "<b>Step 3</b>: Use the following optimizer to minimize the loss\n"
      ]
    },
    {
      "cell_type": "code",
      "metadata": {
        "id": "4ffbf141-4354-429f-ba64-cf0fecf4d97e"
      },
      "outputs": [],
      "source": [
        "optimizer = torch.optim.Adam([parameters  for parameters in model.parameters() if parameters.requires_grad],lr=0.001)"
      ],
      "execution_count": 46
    },
    {
      "cell_type": "markdown",
      "metadata": {
        "id": "278f8e4c-8cc9-477a-b291-3aedf0d0852e"
      },
      "source": [
        "<!--Empty Space for separating topics-->\n"
      ]
    },
    {
      "cell_type": "markdown",
      "metadata": {
        "id": "3a7f9e3b-f4a4-430d-92e4-2b204f4f9162"
      },
      "source": [
        "**Complete the following code to calculate  the accuracy on the validation data for one epoch; this should take about 45 minutes. Make sure you calculate the accuracy on the validation data.**\n"
      ]
    },
    {
      "cell_type": "code",
      "metadata": {
        "colab": {
          "base_uri": "https://localhost:8080/"
        },
        "id": "e10db4f0-56f4-4c94-940f-133f5764ef04",
        "outputId": "64c6703c-ed10-4fe8-a99f-58c4c495ec74"
      },
      "outputs": [
        {
          "output_type": "stream",
          "name": "stdout",
          "text": [
            "Number of items in training set :  30000\n",
            "Number of items in testing set :  10000\n",
            "------------------------------\n",
            "Iteration (train phase) 1/300\n"
          ]
        },
        {
          "output_type": "stream",
          "name": "stderr",
          "text": [
            "<ipython-input-38-02a2c11258eb>:42: FutureWarning: You are using `torch.load` with `weights_only=False` (the current default value), which uses the default pickle module implicitly. It is possible to construct malicious pickle data which will execute arbitrary code during unpickling (See https://github.com/pytorch/pytorch/blob/main/SECURITY.md#untrusted-models for more details). In a future release, the default value for `weights_only` will be flipped to `True`. This limits the functions that could be executed during unpickling. Arbitrary objects will no longer be allowed to be loaded via this mode unless they are explicitly allowlisted by the user via `torch.serialization.add_safe_globals`. We recommend you start setting `weights_only=True` for any use case where you don't have full control of the loaded file. Please open an issue on GitHub for any issues related to this experimental feature.\n",
            "  image=torch.load(self.all_files[idx])\n"
          ]
        },
        {
          "output_type": "stream",
          "name": "stdout",
          "text": [
            "Finished in 0.7427294254302979 (s)\n",
            "------------------------------\n",
            "Iteration (train phase) 2/300\n",
            "Finished in 0.8127231597900391 (s)\n",
            "------------------------------\n",
            "Iteration (train phase) 3/300\n",
            "Finished in 0.7640020847320557 (s)\n",
            "------------------------------\n",
            "Iteration (train phase) 4/300\n",
            "Finished in 0.7451686859130859 (s)\n",
            "------------------------------\n",
            "Iteration (train phase) 5/300\n",
            "Finished in 0.7690401077270508 (s)\n",
            "------------------------------\n",
            "Iteration (train phase) 6/300\n",
            "Finished in 0.7594029903411865 (s)\n",
            "------------------------------\n",
            "Iteration (train phase) 7/300\n",
            "Finished in 0.7764525413513184 (s)\n",
            "------------------------------\n",
            "Iteration (train phase) 8/300\n",
            "Finished in 0.7596654891967773 (s)\n",
            "------------------------------\n",
            "Iteration (train phase) 9/300\n",
            "Finished in 0.8232758045196533 (s)\n",
            "------------------------------\n",
            "Iteration (train phase) 10/300\n",
            "Finished in 0.8434798717498779 (s)\n",
            "------------------------------\n",
            "Iteration (train phase) 11/300\n",
            "Finished in 0.8314707279205322 (s)\n",
            "------------------------------\n",
            "Iteration (train phase) 12/300\n",
            "Finished in 0.7834734916687012 (s)\n",
            "------------------------------\n",
            "Iteration (train phase) 13/300\n",
            "Finished in 0.8248891830444336 (s)\n",
            "------------------------------\n",
            "Iteration (train phase) 14/300\n",
            "Finished in 0.82694411277771 (s)\n",
            "------------------------------\n",
            "Iteration (train phase) 15/300\n",
            "Finished in 0.8241848945617676 (s)\n",
            "------------------------------\n",
            "Iteration (train phase) 16/300\n",
            "Finished in 0.8145997524261475 (s)\n",
            "------------------------------\n",
            "Iteration (train phase) 17/300\n",
            "Finished in 0.8296108245849609 (s)\n",
            "------------------------------\n",
            "Iteration (train phase) 18/300\n",
            "Finished in 0.8217790126800537 (s)\n",
            "------------------------------\n",
            "Iteration (train phase) 19/300\n",
            "Finished in 0.8271188735961914 (s)\n",
            "------------------------------\n",
            "Iteration (train phase) 20/300\n",
            "Finished in 0.8205029964447021 (s)\n",
            "------------------------------\n",
            "Iteration (train phase) 21/300\n",
            "Finished in 0.8240373134613037 (s)\n",
            "------------------------------\n",
            "Iteration (train phase) 22/300\n",
            "Finished in 0.8263428211212158 (s)\n",
            "------------------------------\n",
            "Iteration (train phase) 23/300\n",
            "Finished in 0.82232666015625 (s)\n",
            "------------------------------\n",
            "Iteration (train phase) 24/300\n",
            "Finished in 0.8243408203125 (s)\n",
            "------------------------------\n",
            "Iteration (train phase) 25/300\n",
            "Finished in 0.8233432769775391 (s)\n",
            "------------------------------\n",
            "Iteration (train phase) 26/300\n",
            "Finished in 0.8130590915679932 (s)\n",
            "------------------------------\n",
            "Iteration (train phase) 27/300\n",
            "Finished in 0.820751428604126 (s)\n",
            "------------------------------\n",
            "Iteration (train phase) 28/300\n",
            "Finished in 0.8006668090820312 (s)\n",
            "------------------------------\n",
            "Iteration (train phase) 29/300\n",
            "Finished in 0.825371265411377 (s)\n",
            "------------------------------\n",
            "Iteration (train phase) 30/300\n",
            "Finished in 0.8596978187561035 (s)\n",
            "------------------------------\n",
            "Iteration (train phase) 31/300\n",
            "Finished in 0.8976118564605713 (s)\n",
            "------------------------------\n",
            "Iteration (train phase) 32/300\n",
            "Finished in 0.8951520919799805 (s)\n",
            "------------------------------\n",
            "Iteration (train phase) 33/300\n",
            "Finished in 0.8948330879211426 (s)\n",
            "------------------------------\n",
            "Iteration (train phase) 34/300\n",
            "Finished in 0.8267452716827393 (s)\n",
            "------------------------------\n",
            "Iteration (train phase) 35/300\n",
            "Finished in 0.8456754684448242 (s)\n",
            "------------------------------\n",
            "Iteration (train phase) 36/300\n",
            "Finished in 0.8424959182739258 (s)\n",
            "------------------------------\n",
            "Iteration (train phase) 37/300\n",
            "Finished in 0.7703869342803955 (s)\n",
            "------------------------------\n",
            "Iteration (train phase) 38/300\n",
            "Finished in 0.7643678188323975 (s)\n",
            "------------------------------\n",
            "Iteration (train phase) 39/300\n",
            "Finished in 0.7651655673980713 (s)\n",
            "------------------------------\n",
            "Iteration (train phase) 40/300\n",
            "Finished in 0.7779715061187744 (s)\n",
            "------------------------------\n",
            "Iteration (train phase) 41/300\n",
            "Finished in 0.8214178085327148 (s)\n",
            "------------------------------\n",
            "Iteration (train phase) 42/300\n",
            "Finished in 0.8217759132385254 (s)\n",
            "------------------------------\n",
            "Iteration (train phase) 43/300\n",
            "Finished in 0.782271146774292 (s)\n",
            "------------------------------\n",
            "Iteration (train phase) 44/300\n",
            "Finished in 0.7604062557220459 (s)\n",
            "------------------------------\n",
            "Iteration (train phase) 45/300\n",
            "Finished in 0.7511417865753174 (s)\n",
            "------------------------------\n",
            "Iteration (train phase) 46/300\n",
            "Finished in 0.8203496932983398 (s)\n",
            "------------------------------\n",
            "Iteration (train phase) 47/300\n",
            "Finished in 0.7643983364105225 (s)\n",
            "------------------------------\n",
            "Iteration (train phase) 48/300\n",
            "Finished in 0.7797720432281494 (s)\n",
            "------------------------------\n",
            "Iteration (train phase) 49/300\n",
            "Finished in 0.790311336517334 (s)\n",
            "------------------------------\n",
            "Iteration (train phase) 50/300\n",
            "Finished in 0.8249707221984863 (s)\n",
            "------------------------------\n",
            "Iteration (train phase) 51/300\n",
            "Finished in 0.8333933353424072 (s)\n",
            "------------------------------\n",
            "Iteration (train phase) 52/300\n",
            "Finished in 0.8265812397003174 (s)\n",
            "------------------------------\n",
            "Iteration (train phase) 53/300\n",
            "Finished in 0.8993649482727051 (s)\n",
            "------------------------------\n",
            "Iteration (train phase) 54/300\n",
            "Finished in 0.8331828117370605 (s)\n",
            "------------------------------\n",
            "Iteration (train phase) 55/300\n",
            "Finished in 0.8422667980194092 (s)\n",
            "------------------------------\n",
            "Iteration (train phase) 56/300\n",
            "Finished in 0.8266208171844482 (s)\n",
            "------------------------------\n",
            "Iteration (train phase) 57/300\n",
            "Finished in 0.840458869934082 (s)\n",
            "------------------------------\n",
            "Iteration (train phase) 58/300\n",
            "Finished in 0.8630125522613525 (s)\n",
            "------------------------------\n",
            "Iteration (train phase) 59/300\n",
            "Finished in 0.8087952136993408 (s)\n",
            "------------------------------\n",
            "Iteration (train phase) 60/300\n",
            "Finished in 0.8315985202789307 (s)\n",
            "------------------------------\n",
            "Iteration (train phase) 61/300\n",
            "Finished in 0.837552547454834 (s)\n",
            "------------------------------\n",
            "Iteration (train phase) 62/300\n",
            "Finished in 0.7467291355133057 (s)\n",
            "------------------------------\n",
            "Iteration (train phase) 63/300\n",
            "Finished in 0.8567397594451904 (s)\n",
            "------------------------------\n",
            "Iteration (train phase) 64/300\n",
            "Finished in 0.8385956287384033 (s)\n",
            "------------------------------\n",
            "Iteration (train phase) 65/300\n",
            "Finished in 0.8316116333007812 (s)\n",
            "------------------------------\n",
            "Iteration (train phase) 66/300\n",
            "Finished in 0.8290543556213379 (s)\n",
            "------------------------------\n",
            "Iteration (train phase) 67/300\n",
            "Finished in 0.7994632720947266 (s)\n",
            "------------------------------\n",
            "Iteration (train phase) 68/300\n",
            "Finished in 0.753638744354248 (s)\n",
            "------------------------------\n",
            "Iteration (train phase) 69/300\n",
            "Finished in 0.837165355682373 (s)\n",
            "------------------------------\n",
            "Iteration (train phase) 70/300\n",
            "Finished in 0.8359014987945557 (s)\n",
            "------------------------------\n",
            "Iteration (train phase) 71/300\n",
            "Finished in 0.7858939170837402 (s)\n",
            "------------------------------\n",
            "Iteration (train phase) 72/300\n",
            "Finished in 0.8056340217590332 (s)\n",
            "------------------------------\n",
            "Iteration (train phase) 73/300\n",
            "Finished in 0.8396744728088379 (s)\n",
            "------------------------------\n",
            "Iteration (train phase) 74/300\n",
            "Finished in 0.8353080749511719 (s)\n",
            "------------------------------\n",
            "Iteration (train phase) 75/300\n",
            "Finished in 1.016566276550293 (s)\n",
            "------------------------------\n",
            "Iteration (train phase) 76/300\n",
            "Finished in 0.8421163558959961 (s)\n",
            "------------------------------\n",
            "Iteration (train phase) 77/300\n",
            "Finished in 0.842965841293335 (s)\n",
            "------------------------------\n",
            "Iteration (train phase) 78/300\n",
            "Finished in 0.805474042892456 (s)\n",
            "------------------------------\n",
            "Iteration (train phase) 79/300\n",
            "Finished in 0.747657299041748 (s)\n",
            "------------------------------\n",
            "Iteration (train phase) 80/300\n",
            "Finished in 0.7592556476593018 (s)\n",
            "------------------------------\n",
            "Iteration (train phase) 81/300\n",
            "Finished in 0.7620551586151123 (s)\n",
            "------------------------------\n",
            "Iteration (train phase) 82/300\n",
            "Finished in 0.820375919342041 (s)\n",
            "------------------------------\n",
            "Iteration (train phase) 83/300\n",
            "Finished in 0.7571239471435547 (s)\n",
            "------------------------------\n",
            "Iteration (train phase) 84/300\n",
            "Finished in 0.760479211807251 (s)\n",
            "------------------------------\n",
            "Iteration (train phase) 85/300\n",
            "Finished in 0.7725670337677002 (s)\n",
            "------------------------------\n",
            "Iteration (train phase) 86/300\n",
            "Finished in 0.7583920955657959 (s)\n",
            "------------------------------\n",
            "Iteration (train phase) 87/300\n",
            "Finished in 0.767287015914917 (s)\n",
            "------------------------------\n",
            "Iteration (train phase) 88/300\n",
            "Finished in 0.7464697360992432 (s)\n",
            "------------------------------\n",
            "Iteration (train phase) 89/300\n",
            "Finished in 0.7729673385620117 (s)\n",
            "------------------------------\n",
            "Iteration (train phase) 90/300\n",
            "Finished in 0.782128095626831 (s)\n",
            "------------------------------\n",
            "Iteration (train phase) 91/300\n",
            "Finished in 0.8241817951202393 (s)\n",
            "------------------------------\n",
            "Iteration (train phase) 92/300\n",
            "Finished in 0.8421440124511719 (s)\n",
            "------------------------------\n",
            "Iteration (train phase) 93/300\n",
            "Finished in 0.8838181495666504 (s)\n",
            "------------------------------\n",
            "Iteration (train phase) 94/300\n",
            "Finished in 0.7735953330993652 (s)\n",
            "------------------------------\n",
            "Iteration (train phase) 95/300\n",
            "Finished in 0.7715840339660645 (s)\n",
            "------------------------------\n",
            "Iteration (train phase) 96/300\n",
            "Finished in 0.7481040954589844 (s)\n",
            "------------------------------\n",
            "Iteration (train phase) 97/300\n",
            "Finished in 0.7571001052856445 (s)\n",
            "------------------------------\n",
            "Iteration (train phase) 98/300\n",
            "Finished in 0.8248903751373291 (s)\n",
            "------------------------------\n",
            "Iteration (train phase) 99/300\n",
            "Finished in 0.8482143878936768 (s)\n",
            "------------------------------\n",
            "Iteration (train phase) 100/300\n",
            "Finished in 0.783132791519165 (s)\n",
            "------------------------------\n",
            "Iteration (train phase) 101/300\n",
            "Finished in 0.8408074378967285 (s)\n",
            "------------------------------\n",
            "Iteration (train phase) 102/300\n",
            "Finished in 0.8536131381988525 (s)\n",
            "------------------------------\n",
            "Iteration (train phase) 103/300\n",
            "Finished in 0.8697659969329834 (s)\n",
            "------------------------------\n",
            "Iteration (train phase) 104/300\n",
            "Finished in 0.8357744216918945 (s)\n",
            "------------------------------\n",
            "Iteration (train phase) 105/300\n",
            "Finished in 0.8221356868743896 (s)\n",
            "------------------------------\n",
            "Iteration (train phase) 106/300\n",
            "Finished in 0.8296248912811279 (s)\n",
            "------------------------------\n",
            "Iteration (train phase) 107/300\n",
            "Finished in 0.8387269973754883 (s)\n",
            "------------------------------\n",
            "Iteration (train phase) 108/300\n",
            "Finished in 0.8295857906341553 (s)\n",
            "------------------------------\n",
            "Iteration (train phase) 109/300\n",
            "Finished in 0.8287591934204102 (s)\n",
            "------------------------------\n",
            "Iteration (train phase) 110/300\n",
            "Finished in 0.8276731967926025 (s)\n",
            "------------------------------\n",
            "Iteration (train phase) 111/300\n",
            "Finished in 0.7719833850860596 (s)\n",
            "------------------------------\n",
            "Iteration (train phase) 112/300\n",
            "Finished in 0.8723149299621582 (s)\n",
            "------------------------------\n",
            "Iteration (train phase) 113/300\n",
            "Finished in 0.8189465999603271 (s)\n",
            "------------------------------\n",
            "Iteration (train phase) 114/300\n",
            "Finished in 0.8343825340270996 (s)\n",
            "------------------------------\n",
            "Iteration (train phase) 115/300\n",
            "Finished in 0.8451383113861084 (s)\n",
            "------------------------------\n",
            "Iteration (train phase) 116/300\n",
            "Finished in 0.7820048332214355 (s)\n",
            "------------------------------\n",
            "Iteration (train phase) 117/300\n",
            "Finished in 0.7591679096221924 (s)\n",
            "------------------------------\n",
            "Iteration (train phase) 118/300\n",
            "Finished in 0.7922489643096924 (s)\n",
            "------------------------------\n",
            "Iteration (train phase) 119/300\n",
            "Finished in 0.8301651477813721 (s)\n",
            "------------------------------\n",
            "Iteration (train phase) 120/300\n",
            "Finished in 0.791921854019165 (s)\n",
            "------------------------------\n",
            "Iteration (train phase) 121/300\n",
            "Finished in 0.9373340606689453 (s)\n",
            "------------------------------\n",
            "Iteration (train phase) 122/300\n",
            "Finished in 0.8862879276275635 (s)\n",
            "------------------------------\n",
            "Iteration (train phase) 123/300\n",
            "Finished in 0.7726907730102539 (s)\n",
            "------------------------------\n",
            "Iteration (train phase) 124/300\n",
            "Finished in 0.7602055072784424 (s)\n",
            "------------------------------\n",
            "Iteration (train phase) 125/300\n",
            "Finished in 0.7609820365905762 (s)\n",
            "------------------------------\n",
            "Iteration (train phase) 126/300\n",
            "Finished in 0.7571098804473877 (s)\n",
            "------------------------------\n",
            "Iteration (train phase) 127/300\n",
            "Finished in 0.7577338218688965 (s)\n",
            "------------------------------\n",
            "Iteration (train phase) 128/300\n",
            "Finished in 0.8452928066253662 (s)\n",
            "------------------------------\n",
            "Iteration (train phase) 129/300\n",
            "Finished in 0.7704734802246094 (s)\n",
            "------------------------------\n",
            "Iteration (train phase) 130/300\n",
            "Finished in 0.7458059787750244 (s)\n",
            "------------------------------\n",
            "Iteration (train phase) 131/300\n",
            "Finished in 0.7650454044342041 (s)\n",
            "------------------------------\n",
            "Iteration (train phase) 132/300\n",
            "Finished in 0.7531864643096924 (s)\n",
            "------------------------------\n",
            "Iteration (train phase) 133/300\n",
            "Finished in 0.7797353267669678 (s)\n",
            "------------------------------\n",
            "Iteration (train phase) 134/300\n",
            "Finished in 0.8426868915557861 (s)\n",
            "------------------------------\n",
            "Iteration (train phase) 135/300\n",
            "Finished in 0.8320701122283936 (s)\n",
            "------------------------------\n",
            "Iteration (train phase) 136/300\n",
            "Finished in 0.8386428356170654 (s)\n",
            "------------------------------\n",
            "Iteration (train phase) 137/300\n",
            "Finished in 0.8296644687652588 (s)\n",
            "------------------------------\n",
            "Iteration (train phase) 138/300\n",
            "Finished in 0.8358759880065918 (s)\n",
            "------------------------------\n",
            "Iteration (train phase) 139/300\n",
            "Finished in 0.7885751724243164 (s)\n",
            "------------------------------\n",
            "Iteration (train phase) 140/300\n",
            "Finished in 0.779749870300293 (s)\n",
            "------------------------------\n",
            "Iteration (train phase) 141/300\n",
            "Finished in 0.8329489231109619 (s)\n",
            "------------------------------\n",
            "Iteration (train phase) 142/300\n",
            "Finished in 0.7549505233764648 (s)\n",
            "------------------------------\n",
            "Iteration (train phase) 143/300\n",
            "Finished in 0.7473251819610596 (s)\n",
            "------------------------------\n",
            "Iteration (train phase) 144/300\n",
            "Finished in 0.8651502132415771 (s)\n",
            "------------------------------\n",
            "Iteration (train phase) 145/300\n",
            "Finished in 0.8427882194519043 (s)\n",
            "------------------------------\n",
            "Iteration (train phase) 146/300\n",
            "Finished in 0.7991898059844971 (s)\n",
            "------------------------------\n",
            "Iteration (train phase) 147/300\n",
            "Finished in 0.8456470966339111 (s)\n",
            "------------------------------\n",
            "Iteration (train phase) 148/300\n",
            "Finished in 0.7943813800811768 (s)\n",
            "------------------------------\n",
            "Iteration (train phase) 149/300\n",
            "Finished in 0.7873818874359131 (s)\n",
            "------------------------------\n",
            "Iteration (train phase) 150/300\n",
            "Finished in 0.823603630065918 (s)\n",
            "------------------------------\n",
            "Iteration (train phase) 151/300\n",
            "Finished in 0.8610963821411133 (s)\n",
            "------------------------------\n",
            "Iteration (train phase) 152/300\n",
            "Finished in 0.804046630859375 (s)\n",
            "------------------------------\n",
            "Iteration (train phase) 153/300\n",
            "Finished in 0.8429841995239258 (s)\n",
            "------------------------------\n",
            "Iteration (train phase) 154/300\n",
            "Finished in 0.8139657974243164 (s)\n",
            "------------------------------\n",
            "Iteration (train phase) 155/300\n",
            "Finished in 0.7727565765380859 (s)\n",
            "------------------------------\n",
            "Iteration (train phase) 156/300\n",
            "Finished in 0.7796406745910645 (s)\n",
            "------------------------------\n",
            "Iteration (train phase) 157/300\n",
            "Finished in 0.8872425556182861 (s)\n",
            "------------------------------\n",
            "Iteration (train phase) 158/300\n",
            "Finished in 0.8400237560272217 (s)\n",
            "------------------------------\n",
            "Iteration (train phase) 159/300\n",
            "Finished in 0.8462746143341064 (s)\n",
            "------------------------------\n",
            "Iteration (train phase) 160/300\n",
            "Finished in 0.8336524963378906 (s)\n",
            "------------------------------\n",
            "Iteration (train phase) 161/300\n",
            "Finished in 0.8474342823028564 (s)\n",
            "------------------------------\n",
            "Iteration (train phase) 162/300\n",
            "Finished in 0.826669454574585 (s)\n",
            "------------------------------\n",
            "Iteration (train phase) 163/300\n",
            "Finished in 0.8340675830841064 (s)\n",
            "------------------------------\n",
            "Iteration (train phase) 164/300\n",
            "Finished in 0.8312485218048096 (s)\n",
            "------------------------------\n",
            "Iteration (train phase) 165/300\n",
            "Finished in 0.8250765800476074 (s)\n",
            "------------------------------\n",
            "Iteration (train phase) 166/300\n",
            "Finished in 0.8347792625427246 (s)\n",
            "------------------------------\n",
            "Iteration (train phase) 167/300\n",
            "Finished in 0.9645161628723145 (s)\n",
            "------------------------------\n",
            "Iteration (train phase) 168/300\n",
            "Finished in 0.8232154846191406 (s)\n",
            "------------------------------\n",
            "Iteration (train phase) 169/300\n",
            "Finished in 0.7492403984069824 (s)\n",
            "------------------------------\n",
            "Iteration (train phase) 170/300\n",
            "Finished in 0.6823897361755371 (s)\n",
            "------------------------------\n",
            "Iteration (train phase) 171/300\n",
            "Finished in 0.7396204471588135 (s)\n",
            "------------------------------\n",
            "Iteration (train phase) 172/300\n",
            "Finished in 0.7913169860839844 (s)\n",
            "------------------------------\n",
            "Iteration (train phase) 173/300\n",
            "Finished in 0.7663989067077637 (s)\n",
            "------------------------------\n",
            "Iteration (train phase) 174/300\n",
            "Finished in 0.7681362628936768 (s)\n",
            "------------------------------\n",
            "Iteration (train phase) 175/300\n",
            "Finished in 0.7472524642944336 (s)\n",
            "------------------------------\n",
            "Iteration (train phase) 176/300\n",
            "Finished in 0.8104054927825928 (s)\n",
            "------------------------------\n",
            "Iteration (train phase) 177/300\n",
            "Finished in 0.8502881526947021 (s)\n",
            "------------------------------\n",
            "Iteration (train phase) 178/300\n",
            "Finished in 0.8343784809112549 (s)\n",
            "------------------------------\n",
            "Iteration (train phase) 179/300\n",
            "Finished in 0.8487467765808105 (s)\n",
            "------------------------------\n",
            "Iteration (train phase) 180/300\n",
            "Finished in 0.7801027297973633 (s)\n",
            "------------------------------\n",
            "Iteration (train phase) 181/300\n",
            "Finished in 0.7686455249786377 (s)\n",
            "------------------------------\n",
            "Iteration (train phase) 182/300\n",
            "Finished in 0.7427098751068115 (s)\n",
            "------------------------------\n",
            "Iteration (train phase) 183/300\n",
            "Finished in 0.6728866100311279 (s)\n",
            "------------------------------\n",
            "Iteration (train phase) 184/300\n",
            "Finished in 0.7489228248596191 (s)\n",
            "------------------------------\n",
            "Iteration (train phase) 185/300\n",
            "Finished in 0.8432881832122803 (s)\n",
            "------------------------------\n",
            "Iteration (train phase) 186/300\n",
            "Finished in 0.7843320369720459 (s)\n",
            "------------------------------\n",
            "Iteration (train phase) 187/300\n",
            "Finished in 0.8413305282592773 (s)\n",
            "------------------------------\n",
            "Iteration (train phase) 188/300\n",
            "Finished in 0.8535873889923096 (s)\n",
            "------------------------------\n",
            "Iteration (train phase) 189/300\n",
            "Finished in 0.8418776988983154 (s)\n",
            "------------------------------\n",
            "Iteration (train phase) 190/300\n",
            "Finished in 0.8386521339416504 (s)\n",
            "------------------------------\n",
            "Iteration (train phase) 191/300\n",
            "Finished in 0.8439722061157227 (s)\n",
            "------------------------------\n",
            "Iteration (train phase) 192/300\n",
            "Finished in 0.8003885746002197 (s)\n",
            "------------------------------\n",
            "Iteration (train phase) 193/300\n",
            "Finished in 0.8118693828582764 (s)\n",
            "------------------------------\n",
            "Iteration (train phase) 194/300\n",
            "Finished in 0.8273725509643555 (s)\n",
            "------------------------------\n",
            "Iteration (train phase) 195/300\n",
            "Finished in 0.8448729515075684 (s)\n",
            "------------------------------\n",
            "Iteration (train phase) 196/300\n",
            "Finished in 0.839841365814209 (s)\n",
            "------------------------------\n",
            "Iteration (train phase) 197/300\n",
            "Finished in 0.8384542465209961 (s)\n",
            "------------------------------\n",
            "Iteration (train phase) 198/300\n",
            "Finished in 0.8244140148162842 (s)\n",
            "------------------------------\n",
            "Iteration (train phase) 199/300\n",
            "Finished in 0.7529339790344238 (s)\n",
            "------------------------------\n",
            "Iteration (train phase) 200/300\n",
            "Finished in 0.8197543621063232 (s)\n",
            "------------------------------\n",
            "Iteration (train phase) 201/300\n",
            "Finished in 0.8335983753204346 (s)\n",
            "------------------------------\n",
            "Iteration (train phase) 202/300\n",
            "Finished in 0.7142279148101807 (s)\n",
            "------------------------------\n",
            "Iteration (train phase) 203/300\n",
            "Finished in 0.7319142818450928 (s)\n",
            "------------------------------\n",
            "Iteration (train phase) 204/300\n",
            "Finished in 0.756152868270874 (s)\n",
            "------------------------------\n",
            "Iteration (train phase) 205/300\n",
            "Finished in 0.7631497383117676 (s)\n",
            "------------------------------\n",
            "Iteration (train phase) 206/300\n",
            "Finished in 0.7553191184997559 (s)\n",
            "------------------------------\n",
            "Iteration (train phase) 207/300\n",
            "Finished in 0.8439610004425049 (s)\n",
            "------------------------------\n",
            "Iteration (train phase) 208/300\n",
            "Finished in 0.8163580894470215 (s)\n",
            "------------------------------\n",
            "Iteration (train phase) 209/300\n",
            "Finished in 0.8243937492370605 (s)\n",
            "------------------------------\n",
            "Iteration (train phase) 210/300\n",
            "Finished in 0.828582763671875 (s)\n",
            "------------------------------\n",
            "Iteration (train phase) 211/300\n",
            "Finished in 0.7909576892852783 (s)\n",
            "------------------------------\n",
            "Iteration (train phase) 212/300\n",
            "Finished in 0.7817003726959229 (s)\n",
            "------------------------------\n",
            "Iteration (train phase) 213/300\n",
            "Finished in 0.9095854759216309 (s)\n",
            "------------------------------\n",
            "Iteration (train phase) 214/300\n",
            "Finished in 0.8106253147125244 (s)\n",
            "------------------------------\n",
            "Iteration (train phase) 215/300\n",
            "Finished in 0.7586615085601807 (s)\n",
            "------------------------------\n",
            "Iteration (train phase) 216/300\n",
            "Finished in 0.8245186805725098 (s)\n",
            "------------------------------\n",
            "Iteration (train phase) 217/300\n",
            "Finished in 0.8408699035644531 (s)\n",
            "------------------------------\n",
            "Iteration (train phase) 218/300\n",
            "Finished in 0.8320262432098389 (s)\n",
            "------------------------------\n",
            "Iteration (train phase) 219/300\n",
            "Finished in 0.8444075584411621 (s)\n",
            "------------------------------\n",
            "Iteration (train phase) 220/300\n",
            "Finished in 0.8354222774505615 (s)\n",
            "------------------------------\n",
            "Iteration (train phase) 221/300\n",
            "Finished in 0.851557731628418 (s)\n",
            "------------------------------\n",
            "Iteration (train phase) 222/300\n",
            "Finished in 0.7783365249633789 (s)\n",
            "------------------------------\n",
            "Iteration (train phase) 223/300\n",
            "Finished in 0.8379852771759033 (s)\n",
            "------------------------------\n",
            "Iteration (train phase) 224/300\n",
            "Finished in 0.8326220512390137 (s)\n",
            "------------------------------\n",
            "Iteration (train phase) 225/300\n",
            "Finished in 0.8245372772216797 (s)\n",
            "------------------------------\n",
            "Iteration (train phase) 226/300\n",
            "Finished in 0.8422684669494629 (s)\n",
            "------------------------------\n",
            "Iteration (train phase) 227/300\n",
            "Finished in 0.8298852443695068 (s)\n",
            "------------------------------\n",
            "Iteration (train phase) 228/300\n",
            "Finished in 0.8407232761383057 (s)\n",
            "------------------------------\n",
            "Iteration (train phase) 229/300\n",
            "Finished in 0.840303897857666 (s)\n",
            "------------------------------\n",
            "Iteration (train phase) 230/300\n",
            "Finished in 0.8390078544616699 (s)\n",
            "------------------------------\n",
            "Iteration (train phase) 231/300\n",
            "Finished in 0.8446052074432373 (s)\n",
            "------------------------------\n",
            "Iteration (train phase) 232/300\n",
            "Finished in 0.8372840881347656 (s)\n",
            "------------------------------\n",
            "Iteration (train phase) 233/300\n",
            "Finished in 0.8418140411376953 (s)\n",
            "------------------------------\n",
            "Iteration (train phase) 234/300\n",
            "Finished in 0.8420121669769287 (s)\n",
            "------------------------------\n",
            "Iteration (train phase) 235/300\n",
            "Finished in 0.7878017425537109 (s)\n",
            "------------------------------\n",
            "Iteration (train phase) 236/300\n",
            "Finished in 0.834244966506958 (s)\n",
            "------------------------------\n",
            "Iteration (train phase) 237/300\n",
            "Finished in 0.8357641696929932 (s)\n",
            "------------------------------\n",
            "Iteration (train phase) 238/300\n",
            "Finished in 0.9049789905548096 (s)\n",
            "------------------------------\n",
            "Iteration (train phase) 239/300\n",
            "Finished in 0.7618639469146729 (s)\n",
            "------------------------------\n",
            "Iteration (train phase) 240/300\n",
            "Finished in 0.7646124362945557 (s)\n",
            "------------------------------\n",
            "Iteration (train phase) 241/300\n",
            "Finished in 0.7706999778747559 (s)\n",
            "------------------------------\n",
            "Iteration (train phase) 242/300\n",
            "Finished in 0.7563431262969971 (s)\n",
            "------------------------------\n",
            "Iteration (train phase) 243/300\n",
            "Finished in 0.7600367069244385 (s)\n",
            "------------------------------\n",
            "Iteration (train phase) 244/300\n",
            "Finished in 0.7715344429016113 (s)\n",
            "------------------------------\n",
            "Iteration (train phase) 245/300\n",
            "Finished in 0.8318514823913574 (s)\n",
            "------------------------------\n",
            "Iteration (train phase) 246/300\n",
            "Finished in 0.8554096221923828 (s)\n",
            "------------------------------\n",
            "Iteration (train phase) 247/300\n",
            "Finished in 0.7689270973205566 (s)\n",
            "------------------------------\n",
            "Iteration (train phase) 248/300\n",
            "Finished in 0.762965202331543 (s)\n",
            "------------------------------\n",
            "Iteration (train phase) 249/300\n",
            "Finished in 0.8388395309448242 (s)\n",
            "------------------------------\n",
            "Iteration (train phase) 250/300\n",
            "Finished in 0.835099458694458 (s)\n",
            "------------------------------\n",
            "Iteration (train phase) 251/300\n",
            "Finished in 0.8515338897705078 (s)\n",
            "------------------------------\n",
            "Iteration (train phase) 252/300\n",
            "Finished in 0.7791216373443604 (s)\n",
            "------------------------------\n",
            "Iteration (train phase) 253/300\n",
            "Finished in 0.7787504196166992 (s)\n",
            "------------------------------\n",
            "Iteration (train phase) 254/300\n",
            "Finished in 0.8454313278198242 (s)\n",
            "------------------------------\n",
            "Iteration (train phase) 255/300\n",
            "Finished in 0.8365716934204102 (s)\n",
            "------------------------------\n",
            "Iteration (train phase) 256/300\n",
            "Finished in 0.8428032398223877 (s)\n",
            "------------------------------\n",
            "Iteration (train phase) 257/300\n",
            "Finished in 0.8464910984039307 (s)\n",
            "------------------------------\n",
            "Iteration (train phase) 258/300\n",
            "Finished in 0.8575100898742676 (s)\n",
            "------------------------------\n",
            "Iteration (train phase) 259/300\n",
            "Finished in 0.8422768115997314 (s)\n",
            "------------------------------\n",
            "Iteration (train phase) 260/300\n",
            "Finished in 0.839106559753418 (s)\n",
            "------------------------------\n",
            "Iteration (train phase) 261/300\n",
            "Finished in 0.8414566516876221 (s)\n",
            "------------------------------\n",
            "Iteration (train phase) 262/300\n",
            "Finished in 0.8428528308868408 (s)\n",
            "------------------------------\n",
            "Iteration (train phase) 263/300\n",
            "Finished in 0.8422119617462158 (s)\n",
            "------------------------------\n",
            "Iteration (train phase) 264/300\n",
            "Finished in 0.8362948894500732 (s)\n",
            "------------------------------\n",
            "Iteration (train phase) 265/300\n",
            "Finished in 0.8447191715240479 (s)\n",
            "------------------------------\n",
            "Iteration (train phase) 266/300\n",
            "Finished in 0.8449773788452148 (s)\n",
            "------------------------------\n",
            "Iteration (train phase) 267/300\n",
            "Finished in 0.8365261554718018 (s)\n",
            "------------------------------\n",
            "Iteration (train phase) 268/300\n",
            "Finished in 0.8404912948608398 (s)\n",
            "------------------------------\n",
            "Iteration (train phase) 269/300\n",
            "Finished in 0.8324484825134277 (s)\n",
            "------------------------------\n",
            "Iteration (train phase) 270/300\n",
            "Finished in 0.8314924240112305 (s)\n",
            "------------------------------\n",
            "Iteration (train phase) 271/300\n",
            "Finished in 0.8402655124664307 (s)\n",
            "------------------------------\n",
            "Iteration (train phase) 272/300\n",
            "Finished in 0.8375399112701416 (s)\n",
            "------------------------------\n",
            "Iteration (train phase) 273/300\n",
            "Finished in 0.836491584777832 (s)\n",
            "------------------------------\n",
            "Iteration (train phase) 274/300\n",
            "Finished in 0.8559310436248779 (s)\n",
            "------------------------------\n",
            "Iteration (train phase) 275/300\n",
            "Finished in 0.8637049198150635 (s)\n",
            "------------------------------\n",
            "Iteration (train phase) 276/300\n",
            "Finished in 0.8337106704711914 (s)\n",
            "------------------------------\n",
            "Iteration (train phase) 277/300\n",
            "Finished in 0.8475015163421631 (s)\n",
            "------------------------------\n",
            "Iteration (train phase) 278/300\n",
            "Finished in 0.7775452136993408 (s)\n",
            "------------------------------\n",
            "Iteration (train phase) 279/300\n",
            "Finished in 0.7934434413909912 (s)\n",
            "------------------------------\n",
            "Iteration (train phase) 280/300\n",
            "Finished in 0.766087532043457 (s)\n",
            "------------------------------\n",
            "Iteration (train phase) 281/300\n",
            "Finished in 0.7757420539855957 (s)\n",
            "------------------------------\n",
            "Iteration (train phase) 282/300\n",
            "Finished in 0.7641701698303223 (s)\n",
            "------------------------------\n",
            "Iteration (train phase) 283/300\n",
            "Finished in 0.7623672485351562 (s)\n",
            "------------------------------\n",
            "Iteration (train phase) 284/300\n",
            "Finished in 0.7621011734008789 (s)\n",
            "------------------------------\n",
            "Iteration (train phase) 285/300\n",
            "Finished in 0.7668046951293945 (s)\n",
            "------------------------------\n",
            "Iteration (train phase) 286/300\n",
            "Finished in 0.7772345542907715 (s)\n",
            "------------------------------\n",
            "Iteration (train phase) 287/300\n",
            "Finished in 0.8390846252441406 (s)\n",
            "------------------------------\n",
            "Iteration (train phase) 288/300\n",
            "Finished in 0.8295333385467529 (s)\n",
            "------------------------------\n",
            "Iteration (train phase) 289/300\n",
            "Finished in 0.8126933574676514 (s)\n",
            "------------------------------\n",
            "Iteration (train phase) 290/300\n",
            "Finished in 0.7847039699554443 (s)\n",
            "------------------------------\n",
            "Iteration (train phase) 291/300\n",
            "Finished in 0.7917613983154297 (s)\n",
            "------------------------------\n",
            "Iteration (train phase) 292/300\n",
            "Finished in 0.7715871334075928 (s)\n",
            "------------------------------\n",
            "Iteration (train phase) 293/300\n",
            "Finished in 0.8415272235870361 (s)\n",
            "------------------------------\n",
            "Iteration (train phase) 294/300\n",
            "Finished in 0.8369214534759521 (s)\n",
            "------------------------------\n",
            "Iteration (train phase) 295/300\n",
            "Finished in 0.83453369140625 (s)\n",
            "------------------------------\n",
            "Iteration (train phase) 296/300\n",
            "Finished in 0.8360049724578857 (s)\n",
            "------------------------------\n",
            "Iteration (train phase) 297/300\n",
            "Finished in 0.8271000385284424 (s)\n",
            "------------------------------\n",
            "Iteration (train phase) 298/300\n",
            "Finished in 0.7922282218933105 (s)\n",
            "------------------------------\n",
            "Iteration (train phase) 299/300\n",
            "Finished in 0.8736484050750732 (s)\n",
            "------------------------------\n",
            "Iteration (train phase) 300/300\n",
            "Finished in 0.8403489589691162 (s)\n",
            "------------------------------\n",
            "Iteration (validation phase) 1/100\n",
            "Finished in 0.8173370361328125 (s)\n",
            "------------------------------\n",
            "Iteration (validation phase) 2/100\n",
            "Finished in 0.800184965133667 (s)\n",
            "------------------------------\n",
            "Iteration (validation phase) 3/100\n",
            "Finished in 0.7990059852600098 (s)\n",
            "------------------------------\n",
            "Iteration (validation phase) 4/100\n",
            "Finished in 0.7942883968353271 (s)\n",
            "------------------------------\n",
            "Iteration (validation phase) 5/100\n",
            "Finished in 0.7946591377258301 (s)\n",
            "------------------------------\n",
            "Iteration (validation phase) 6/100\n",
            "Finished in 0.7589588165283203 (s)\n",
            "------------------------------\n",
            "Iteration (validation phase) 7/100\n",
            "Finished in 0.8079450130462646 (s)\n",
            "------------------------------\n",
            "Iteration (validation phase) 8/100\n",
            "Finished in 0.797152042388916 (s)\n",
            "------------------------------\n",
            "Iteration (validation phase) 9/100\n",
            "Finished in 0.8049707412719727 (s)\n",
            "------------------------------\n",
            "Iteration (validation phase) 10/100\n",
            "Finished in 0.8002347946166992 (s)\n",
            "------------------------------\n",
            "Iteration (validation phase) 11/100\n",
            "Finished in 0.8033473491668701 (s)\n",
            "------------------------------\n",
            "Iteration (validation phase) 12/100\n",
            "Finished in 0.7961883544921875 (s)\n",
            "------------------------------\n",
            "Iteration (validation phase) 13/100\n",
            "Finished in 0.803342342376709 (s)\n",
            "------------------------------\n",
            "Iteration (validation phase) 14/100\n",
            "Finished in 0.7986791133880615 (s)\n",
            "------------------------------\n",
            "Iteration (validation phase) 15/100\n",
            "Finished in 0.7281599044799805 (s)\n",
            "------------------------------\n",
            "Iteration (validation phase) 16/100\n",
            "Finished in 0.726311206817627 (s)\n",
            "------------------------------\n",
            "Iteration (validation phase) 17/100\n",
            "Finished in 0.7945713996887207 (s)\n",
            "------------------------------\n",
            "Iteration (validation phase) 18/100\n",
            "Finished in 0.7981033325195312 (s)\n",
            "------------------------------\n",
            "Iteration (validation phase) 19/100\n",
            "Finished in 0.756103515625 (s)\n",
            "------------------------------\n",
            "Iteration (validation phase) 20/100\n",
            "Finished in 0.7857456207275391 (s)\n",
            "------------------------------\n",
            "Iteration (validation phase) 21/100\n",
            "Finished in 0.7308473587036133 (s)\n",
            "------------------------------\n",
            "Iteration (validation phase) 22/100\n",
            "Finished in 0.7431704998016357 (s)\n",
            "------------------------------\n",
            "Iteration (validation phase) 23/100\n",
            "Finished in 0.7279236316680908 (s)\n",
            "------------------------------\n",
            "Iteration (validation phase) 24/100\n",
            "Finished in 0.7331452369689941 (s)\n",
            "------------------------------\n",
            "Iteration (validation phase) 25/100\n",
            "Finished in 0.7264847755432129 (s)\n",
            "------------------------------\n",
            "Iteration (validation phase) 26/100\n",
            "Finished in 0.7573940753936768 (s)\n",
            "------------------------------\n",
            "Iteration (validation phase) 27/100\n",
            "Finished in 0.7223927974700928 (s)\n",
            "------------------------------\n",
            "Iteration (validation phase) 28/100\n",
            "Finished in 0.7462589740753174 (s)\n",
            "------------------------------\n",
            "Iteration (validation phase) 29/100\n",
            "Finished in 0.7912678718566895 (s)\n",
            "------------------------------\n",
            "Iteration (validation phase) 30/100\n",
            "Finished in 0.8018560409545898 (s)\n",
            "------------------------------\n",
            "Iteration (validation phase) 31/100\n",
            "Finished in 0.8036401271820068 (s)\n",
            "------------------------------\n",
            "Iteration (validation phase) 32/100\n",
            "Finished in 0.8049101829528809 (s)\n",
            "------------------------------\n",
            "Iteration (validation phase) 33/100\n",
            "Finished in 0.7984342575073242 (s)\n",
            "------------------------------\n",
            "Iteration (validation phase) 34/100\n",
            "Finished in 0.8742275238037109 (s)\n",
            "------------------------------\n",
            "Iteration (validation phase) 35/100\n",
            "Finished in 0.8367292881011963 (s)\n",
            "------------------------------\n",
            "Iteration (validation phase) 36/100\n",
            "Finished in 0.7356245517730713 (s)\n",
            "------------------------------\n",
            "Iteration (validation phase) 37/100\n",
            "Finished in 0.7699310779571533 (s)\n",
            "------------------------------\n",
            "Iteration (validation phase) 38/100\n",
            "Finished in 0.7825815677642822 (s)\n",
            "------------------------------\n",
            "Iteration (validation phase) 39/100\n",
            "Finished in 0.8331649303436279 (s)\n",
            "------------------------------\n",
            "Iteration (validation phase) 40/100\n",
            "Finished in 0.7710633277893066 (s)\n",
            "------------------------------\n",
            "Iteration (validation phase) 41/100\n",
            "Finished in 0.7291107177734375 (s)\n",
            "------------------------------\n",
            "Iteration (validation phase) 42/100\n",
            "Finished in 0.8204619884490967 (s)\n",
            "------------------------------\n",
            "Iteration (validation phase) 43/100\n",
            "Finished in 0.8181450366973877 (s)\n",
            "------------------------------\n",
            "Iteration (validation phase) 44/100\n",
            "Finished in 0.8049871921539307 (s)\n",
            "------------------------------\n",
            "Iteration (validation phase) 45/100\n",
            "Finished in 0.8034429550170898 (s)\n",
            "------------------------------\n",
            "Iteration (validation phase) 46/100\n",
            "Finished in 0.8739268779754639 (s)\n",
            "------------------------------\n",
            "Iteration (validation phase) 47/100\n",
            "Finished in 0.7889621257781982 (s)\n",
            "------------------------------\n",
            "Iteration (validation phase) 48/100\n",
            "Finished in 0.7205495834350586 (s)\n",
            "------------------------------\n",
            "Iteration (validation phase) 49/100\n",
            "Finished in 0.803302526473999 (s)\n",
            "------------------------------\n",
            "Iteration (validation phase) 50/100\n",
            "Finished in 0.7926762104034424 (s)\n",
            "------------------------------\n",
            "Iteration (validation phase) 51/100\n",
            "Finished in 0.8916940689086914 (s)\n",
            "------------------------------\n",
            "Iteration (validation phase) 52/100\n",
            "Finished in 0.8077483177185059 (s)\n",
            "------------------------------\n",
            "Iteration (validation phase) 53/100\n",
            "Finished in 0.8196642398834229 (s)\n",
            "------------------------------\n",
            "Iteration (validation phase) 54/100\n",
            "Finished in 0.8241176605224609 (s)\n",
            "------------------------------\n",
            "Iteration (validation phase) 55/100\n",
            "Finished in 0.7444586753845215 (s)\n",
            "------------------------------\n",
            "Iteration (validation phase) 56/100\n",
            "Finished in 0.7527682781219482 (s)\n",
            "------------------------------\n",
            "Iteration (validation phase) 57/100\n",
            "Finished in 0.827286958694458 (s)\n",
            "------------------------------\n",
            "Iteration (validation phase) 58/100\n",
            "Finished in 0.7638363838195801 (s)\n",
            "------------------------------\n",
            "Iteration (validation phase) 59/100\n",
            "Finished in 0.7632217407226562 (s)\n",
            "------------------------------\n",
            "Iteration (validation phase) 60/100\n",
            "Finished in 0.7488093376159668 (s)\n",
            "------------------------------\n",
            "Iteration (validation phase) 61/100\n",
            "Finished in 0.7520811557769775 (s)\n",
            "------------------------------\n",
            "Iteration (validation phase) 62/100\n",
            "Finished in 0.7384662628173828 (s)\n",
            "------------------------------\n",
            "Iteration (validation phase) 63/100\n",
            "Finished in 0.7904379367828369 (s)\n",
            "------------------------------\n",
            "Iteration (validation phase) 64/100\n",
            "Finished in 0.8113203048706055 (s)\n",
            "------------------------------\n",
            "Iteration (validation phase) 65/100\n",
            "Finished in 0.8163802623748779 (s)\n",
            "------------------------------\n",
            "Iteration (validation phase) 66/100\n",
            "Finished in 0.8192362785339355 (s)\n",
            "------------------------------\n",
            "Iteration (validation phase) 67/100\n",
            "Finished in 0.8233911991119385 (s)\n",
            "------------------------------\n",
            "Iteration (validation phase) 68/100\n",
            "Finished in 0.8178319931030273 (s)\n",
            "------------------------------\n",
            "Iteration (validation phase) 69/100\n",
            "Finished in 0.819932222366333 (s)\n",
            "------------------------------\n",
            "Iteration (validation phase) 70/100\n",
            "Finished in 0.7754273414611816 (s)\n",
            "------------------------------\n",
            "Iteration (validation phase) 71/100\n",
            "Finished in 0.7440271377563477 (s)\n",
            "------------------------------\n",
            "Iteration (validation phase) 72/100\n",
            "Finished in 0.7413375377655029 (s)\n",
            "------------------------------\n",
            "Iteration (validation phase) 73/100\n",
            "Finished in 0.8089160919189453 (s)\n",
            "------------------------------\n",
            "Iteration (validation phase) 74/100\n",
            "Finished in 0.8006064891815186 (s)\n",
            "------------------------------\n",
            "Iteration (validation phase) 75/100\n",
            "Finished in 0.7376997470855713 (s)\n",
            "------------------------------\n",
            "Iteration (validation phase) 76/100\n",
            "Finished in 0.7354252338409424 (s)\n",
            "------------------------------\n",
            "Iteration (validation phase) 77/100\n",
            "Finished in 0.8170716762542725 (s)\n",
            "------------------------------\n",
            "Iteration (validation phase) 78/100\n",
            "Finished in 0.806865930557251 (s)\n",
            "------------------------------\n",
            "Iteration (validation phase) 79/100\n",
            "Finished in 0.813288688659668 (s)\n",
            "------------------------------\n",
            "Iteration (validation phase) 80/100\n",
            "Finished in 0.8290243148803711 (s)\n",
            "------------------------------\n",
            "Iteration (validation phase) 81/100\n",
            "Finished in 0.7372043132781982 (s)\n",
            "------------------------------\n",
            "Iteration (validation phase) 82/100\n",
            "Finished in 0.7989926338195801 (s)\n",
            "------------------------------\n",
            "Iteration (validation phase) 83/100\n",
            "Finished in 0.7786612510681152 (s)\n",
            "------------------------------\n",
            "Iteration (validation phase) 84/100\n",
            "Finished in 0.8023927211761475 (s)\n",
            "------------------------------\n",
            "Iteration (validation phase) 85/100\n",
            "Finished in 0.7926397323608398 (s)\n",
            "------------------------------\n",
            "Iteration (validation phase) 86/100\n",
            "Finished in 0.7988464832305908 (s)\n",
            "------------------------------\n",
            "Iteration (validation phase) 87/100\n",
            "Finished in 0.7966718673706055 (s)\n",
            "------------------------------\n",
            "Iteration (validation phase) 88/100\n",
            "Finished in 0.80088210105896 (s)\n",
            "------------------------------\n",
            "Iteration (validation phase) 89/100\n",
            "Finished in 0.7935969829559326 (s)\n",
            "------------------------------\n",
            "Iteration (validation phase) 90/100\n",
            "Finished in 0.7922344207763672 (s)\n",
            "------------------------------\n",
            "Iteration (validation phase) 91/100\n",
            "Finished in 0.7898848056793213 (s)\n",
            "------------------------------\n",
            "Iteration (validation phase) 92/100\n",
            "Finished in 0.799415111541748 (s)\n",
            "------------------------------\n",
            "Iteration (validation phase) 93/100\n",
            "Finished in 0.7995593547821045 (s)\n",
            "------------------------------\n",
            "Iteration (validation phase) 94/100\n",
            "Finished in 0.7944924831390381 (s)\n",
            "------------------------------\n",
            "Iteration (validation phase) 95/100\n",
            "Finished in 0.7554457187652588 (s)\n",
            "------------------------------\n",
            "Iteration (validation phase) 96/100\n",
            "Finished in 0.7710621356964111 (s)\n",
            "------------------------------\n",
            "Iteration (validation phase) 97/100\n",
            "Finished in 0.7181863784790039 (s)\n",
            "------------------------------\n",
            "Iteration (validation phase) 98/100\n",
            "Finished in 0.6651449203491211 (s)\n",
            "------------------------------\n",
            "Iteration (validation phase) 99/100\n",
            "Finished in 0.7100961208343506 (s)\n",
            "------------------------------\n",
            "Iteration (validation phase) 100/100\n",
            "Finished in 0.7226865291595459 (s)\n"
          ]
        }
      ],
      "source": [
        "n_epochs=1\n",
        "loss_list=[]\n",
        "accuracy_list=[]\n",
        "correct=0\n",
        "N_test=len(validation_dataset)\n",
        "N_train=len(train_dataset)\n",
        "start_time = time.time()\n",
        "#n_epochs\n",
        "\n",
        "print(\"Number of items in training set : \", N_train)\n",
        "print(\"Number of items in testing set : \", N_test)\n",
        "\n",
        "Loss=0\n",
        "for epoch in range(n_epochs):\n",
        "    for i, (x, y) in enumerate(train_loader):\n",
        "        print('-' * 30)\n",
        "        print('Iteration (train phase) {}/{}'.format(i+1, int(N_train/100)))\n",
        "        i_start_time = time.time()\n",
        "\n",
        "        model.train()\n",
        "        #clear gradient\n",
        "        optimizer.zero_grad()\n",
        "        #make a prediction\n",
        "        z = model(x)\n",
        "        # calculate loss\n",
        "        loss = criterion(z, y)\n",
        "        # calculate gradients of parameters\n",
        "        loss.backward()\n",
        "        # update parameters\n",
        "        optimizer.step()\n",
        "        loss_list.append(loss.data)\n",
        "\n",
        "        print(\"Finished in {} (s)\".format(time.time()-i_start_time))\n",
        "\n",
        "    correct=0\n",
        "    for i, (x_test, y_test) in enumerate(validation_loader):\n",
        "        print('-' * 30)\n",
        "        print('Iteration (validation phase) {}/{}'.format(i+1, int(N_test/100)))\n",
        "        i_start_time = time.time()\n",
        "\n",
        "        # set model to eval\n",
        "        model.eval()\n",
        "        #make a prediction\n",
        "        z = model(x_test)\n",
        "        #find max\n",
        "        _, yhat = torch.max(z.data, 1)\n",
        "\n",
        "        #Calculate misclassified  samples in mini-batch\n",
        "        #hint +=(yhat==y_test).sum().item()\n",
        "        correct += (yhat==y_test).sum().item()\n",
        "\n",
        "        print(\"Finished in {} (s)\".format(time.time()-i_start_time))\n",
        "\n",
        "    accuracy=correct/N_test\n",
        "    accuracy_list.append(accuracy)\n"
      ],
      "execution_count": 47
    },
    {
      "cell_type": "markdown",
      "metadata": {
        "id": "176f3003-c65d-40bc-96ad-5c9c48c99f3b"
      },
      "source": [
        "<b>Print out the Accuracy and plot the loss stored in the list <code>loss_list</code> for every iteration and take a screen shot.</b>\n"
      ]
    },
    {
      "cell_type": "code",
      "metadata": {
        "colab": {
          "base_uri": "https://localhost:8080/"
        },
        "id": "f321eee5-544b-4659-839f-0e6ea591d09d",
        "outputId": "d8d3a5d9-d80f-4afa-9e70-343ccc19b984"
      },
      "outputs": [
        {
          "output_type": "execute_result",
          "data": {
            "text/plain": [
              "0.9943"
            ]
          },
          "metadata": {},
          "execution_count": 48
        }
      ],
      "source": [
        "accuracy"
      ],
      "execution_count": 48
    },
    {
      "cell_type": "code",
      "metadata": {
        "colab": {
          "base_uri": "https://localhost:8080/",
          "height": 449
        },
        "id": "3c7ae1d7-abbd-4e21-b0f2-9e45b967a1b6",
        "outputId": "696db832-4888-43ae-8667-224e01edf267"
      },
      "outputs": [
        {
          "output_type": "display_data",
          "data": {
            "text/plain": [
              "<Figure size 640x480 with 1 Axes>"
            ],
            "image/png": "[encoded data removed]"
          },
          "metadata": {}
        }
      ],
      "source": [
        "plt.plot(loss_list)\n",
        "plt.xlabel(\"iteration\")\n",
        "plt.ylabel(\"loss\")\n",
        "plt.show()\n"
      ],
      "execution_count": 49
    },
    {
      "cell_type": "markdown",
      "metadata": {
        "id": "a7f1f6bc-f2ba-4b06-9109-7778966e1379"
      },
      "source": [
        "<h2 id=\"Question_3\">Question 3:Find the misclassified samples</h2>\n"
      ]
    },
    {
      "cell_type": "markdown",
      "metadata": {
        "id": "4a78f947-6f88-4871-8005-d5732cd8e2d9"
      },
      "source": [
        "<b>Identify the first four misclassified samples using the validation data:</b>\n"
      ]
    },
    {
      "cell_type": "code",
      "metadata": {
        "colab": {
          "base_uri": "https://localhost:8080/"
        },
        "id": "6d0864db-4423-447e-b379-407e707efb43",
        "outputId": "149941f3-6b80-477f-c3d8-3123d1e1858a"
      },
      "outputs": [
        {
          "output_type": "stream",
          "name": "stderr",
          "text": [
            "<ipython-input-38-02a2c11258eb>:42: FutureWarning: You are using `torch.load` with `weights_only=False` (the current default value), which uses the default pickle module implicitly. It is possible to construct malicious pickle data which will execute arbitrary code during unpickling (See https://github.com/pytorch/pytorch/blob/main/SECURITY.md#untrusted-models for more details). In a future release, the default value for `weights_only` will be flipped to `True`. This limits the functions that could be executed during unpickling. Arbitrary objects will no longer be allowed to be loaded via this mode unless they are explicitly allowlisted by the user via `torch.serialization.add_safe_globals`. We recommend you start setting `weights_only=True` for any use case where you don't have full control of the loaded file. Please open an issue on GitHub for any issues related to this experimental feature.\n",
            "  image=torch.load(self.all_files[idx])\n"
          ]
        },
        {
          "output_type": "stream",
          "name": "stdout",
          "text": [
            "Sample : 23; Expected Label: tensor([0]); Obtained Label: tensor([1])\n",
            "Sample : 153; Expected Label: tensor([0]); Obtained Label: tensor([1])\n",
            "Sample : 457; Expected Label: tensor([0]); Obtained Label: tensor([1])\n",
            "Sample : 769; Expected Label: tensor([0]); Obtained Label: tensor([1])\n"
          ]
        }
      ],
      "source": [
        "count = 0\n",
        "n = 4\n",
        "validation_loader_batch_one = torch.utils.data.DataLoader(dataset=validation_dataset, batch_size=1)\n",
        "\n",
        "for i, (x_test, y_test) in enumerate(validation_loader_batch_one):\n",
        "    # set model to eval\n",
        "    model.eval()\n",
        "\n",
        "    # make a prediction\n",
        "    z = model(x_test)\n",
        "\n",
        "    # find max\n",
        "    _, yhat = torch.max(z.data, 1)\n",
        "\n",
        "    # print mis-classified samples\n",
        "    if yhat != y_test:\n",
        "        print(\"Sample : {}; Expected Label: {}; Obtained Label: {}\".format(str(i), str(y_test), str(yhat)))\n",
        "        count += 1\n",
        "        if count >= n:\n",
        "            break\n",
        "    # end if\n",
        "# end for"
      ],
      "execution_count": 50
    },
    {
      "cell_type": "markdown",
      "metadata": {
        "id": "715b8fe6-26bd-4bb9-b8da-1ca492528ee6"
      },
      "source": [
        "<a href=\"https://dataplatform.cloud.ibm.com/docs/content/wsj/analyze-data/share-notebooks.html?utm_source=Exinfluencer&utm_content=000026UJ&utm_id=NA-SkillsNetwork-Channel-SkillsNetworkCoursesIBMDeveloperSkillsNetworkDL0321ENSkillsNetwork951-2022-01-01&utm_medium=Exinfluencer&utm_term=10006555\"> CLICK HERE </a> Click here to see how to share your notebook.\n"
      ]
    },
    {
      "cell_type": "markdown",
      "metadata": {
        "id": "46f20a3f-7d1b-4aea-9e74-e373ec30e1bb"
      },
      "source": [
        "<h2>About the Authors:</h2>\n",
        "\n",
        "<a href=\"https://www.linkedin.com/in/joseph-s-50398b136/?utm_medium=Exinfluencer&utm_source=Exinfluencer&utm_content=000026UJ&utm_term=10006555&utm_id=NA-SkillsNetwork-Channel-SkillsNetworkCoursesIBMDeveloperSkillsNetworkDL0321ENSkillsNetwork951-2022-01-01\">Joseph Santarcangelo</a> has a PhD in Electrical Engineering, his research focused on using machine learning, signal processing, and computer vision to determine how videos impact human cognition. Joseph has been working for IBM since he completed his PhD.\n"
      ]
    },
    {
      "cell_type": "markdown",
      "metadata": {
        "id": "acb64cce-3fe5-489d-bced-79c3e7a447cf"
      },
      "source": [
        "\n",
        "## Change Log\n",
        "\n",
        "|  Date (YYYY-MM-DD) |  Version | Changed By  |  Change Description |\n",
        "|---|---|---|---|\n",
        "| 2020-09-21  | 2.0  | Shubham  |  Migrated Lab to Markdown and added to course repo in GitLab |\n",
        "\n",
        "\n",
        "\n",
        "<hr>\n",
        "\n",
        "## <h3 align=\"center\"> © IBM Corporation 2020. All rights reserved. <h3/>\n"
      ]
    },
    {
      "cell_type": "markdown",
      "metadata": {
        "id": "1a379170-e56f-40f9-9f8f-e3227416419a"
      },
      "source": [
        "Copyright &copy; 2018 <a href=\"cognitiveclass.ai?utm_source=bducopyrightlink&utm_medium=dswb&utm_campaign=bdu\">cognitiveclass.ai</a>. This notebook and its source code are released under the terms of the <a href=\"https://bigdatauniversity.com/mit-license/?utm_medium=Exinfluencer&utm_source=Exinfluencer&utm_content=000026UJ&utm_term=10006555&utm_id=NA-SkillsNetwork-Channel-SkillsNetworkCoursesIBMDeveloperSkillsNetworkDL0321ENSkillsNetwork951-2022-01-01\">MIT License</a>.\n"
      ]
    }
  ],
  "metadata": {
    "kernelspec": {
      "display_name": "Python",
      "language": "python",
      "name": "conda-env-python-py"
    },
    "language_info": {
      "name": ""
    },
    "colab": {
      "provenance": [],
      "gpuType": "V28"
    },
    "accelerator": "TPU"
  },
  "nbformat": 4,
  "nbformat_minor": 0
}